{
 "cells": [
  {
   "cell_type": "code",
   "execution_count": 9,
   "id": "dfa42d07-3059-4d63-b625-845f018028b7",
   "metadata": {
    "editable": true,
    "slideshow": {
     "slide_type": ""
    },
    "tags": []
   },
   "outputs": [],
   "source": [
    "import pandas as pd\n",
    "import numpy as np\n",
    "import re\n",
    "import nltk\n",
    "from nltk.corpus import stopwords\n",
    "from nltk.stem import SnowballStemmer\n",
    "from sklearn.model_selection import train_test_split, GridSearchCV\n",
    "from sklearn.pipeline import Pipeline\n",
    "from sklearn.feature_extraction.text import TfidfVectorizer\n",
    "from lightgbm import LGBMClassifier\n",
    "from sklearn.metrics import f1_score, precision_score, recall_score, precision_recall_curve\n",
    "import matplotlib.pyplot as plt"
   ]
  },
  {
   "cell_type": "code",
   "execution_count": 17,
   "id": "1bb35b53-86d1-4b27-abed-67e4003e2b6c",
   "metadata": {
    "editable": true,
    "slideshow": {
     "slide_type": ""
    },
    "tags": []
   },
   "outputs": [
    {
     "name": "stderr",
     "output_type": "stream",
     "text": [
      "[nltk_data] Downloading package stopwords to\n",
      "[nltk_data]     C:\\Users\\kerio\\AppData\\Roaming\\nltk_data...\n",
      "[nltk_data]   Package stopwords is already up-to-date!\n"
     ]
    }
   ],
   "source": [
    "try:\n",
    "    df = pd.read_csv('./data/labeled.csv')\n",
    "except FileNotFoundError:\n",
    "    print(\"Файл 'labeled.csv' не найден. Убедитесь, что он находится в той же папке.\")\n",
    "    exit()\n",
    "\n",
    "nltk.download('stopwords')\n",
    "stop_words = set(stopwords.words('russian'))\n",
    "snowball = SnowballStemmer(language='russian')\n",
    "\n",
    "def clean_text(text):\n",
    "    text = text.lower()\n",
    "    text = re.sub(r'[^а-яa-z]', ' ', text)\n",
    "    text = text.split()\n",
    "    text = [snowball.stem(word) for word in text if word not in stop_words and len(word) > 1]\n",
    "    return ' '.join(text)\n",
    "\n",
    "df['comment'] = df['comment'].apply(clean_text)\n",
    "X_train, X_test, y_train, y_test = train_test_split(\n",
    "    df['comment'],\n",
    "    df['toxic'],\n",
    "    test_size=0.2,\n",
    "    random_state=1337,\n",
    "    stratify=df['toxic']\n",
    ")"
   ]
  },
  {
   "cell_type": "code",
   "execution_count": 18,
   "id": "bd143caf-a2a4-4b1f-bb5d-be4fde761403",
   "metadata": {
    "editable": true,
    "slideshow": {
     "slide_type": ""
    },
    "tags": []
   },
   "outputs": [
    {
     "name": "stdout",
     "output_type": "stream",
     "text": [
      "Начинаю поиск по сетке...\n",
      "[LightGBM] [Info] Number of positive: 3861, number of negative: 7668\n",
      "[LightGBM] [Info] Auto-choosing row-wise multi-threading, the overhead of testing was 0.024221 seconds.\n",
      "You can set `force_row_wise=true` to remove the overhead.\n",
      "And if memory is not enough, you can set `force_col_wise=true`.\n",
      "[LightGBM] [Info] Total Bins 35290\n",
      "[LightGBM] [Info] Number of data points in the train set: 11529, number of used features: 1601\n",
      "[LightGBM] [Info] [binary:BoostFromScore]: pavg=0.500000 -> initscore=-0.000000\n",
      "[LightGBM] [Info] Start training from score -0.000000\n",
      "Поиск завершен.\n",
      "Лучшие параметры: {'classifier__learning_rate': 0.05, 'classifier__n_estimators': 200, 'classifier__num_leaves': 31}\n",
      "Лучший F1-Score на кросс-валидации: 0.7162865575068126\n"
     ]
    }
   ],
   "source": [
    "pipeline = Pipeline([\n",
    "    ('features', TfidfVectorizer()),\n",
    "    ('classifier', LGBMClassifier(random_state=1337, class_weight='balanced'))\n",
    "])\n",
    "\n",
    "param_grid = {\n",
    "    'classifier__n_estimators': [100, 200, 300],\n",
    "    'classifier__learning_rate': [0.05, 0.1, 0.2],\n",
    "    'classifier__num_leaves': [20, 31, 40]\n",
    "}\n",
    "\n",
    "grid_search = GridSearchCV(\n",
    "    pipeline,\n",
    "    param_grid,\n",
    "    cv=3,\n",
    "    scoring='f1',\n",
    "    n_jobs=-1\n",
    ")\n",
    "\n",
    "print(\"Начинаю поиск по сетке...\")\n",
    "grid_search.fit(X_train, y_train)\n",
    "print(\"Поиск завершен.\")\n",
    "\n",
    "print(\"Лучшие параметры:\", grid_search.best_params_)\n",
    "print(\"Лучший F1-Score на кросс-валидации:\", grid_search.best_score_)\n",
    "\n",
    "best_model = grid_search.best_estimator_"
   ]
  },
  {
   "cell_type": "code",
   "execution_count": 19,
   "id": "cb480219-907e-4eca-b4fe-be74475a920b",
   "metadata": {},
   "outputs": [
    {
     "name": "stdout",
     "output_type": "stream",
     "text": [
      "\n",
      "Лучший F1-Score на тестовом наборе: 0.7586\n",
      "Оптимальный порог: 0.5522\n",
      "\n",
      "Финальная Precision: 0.7272\n",
      "Финальный Recall: 0.7927\n",
      "Финальный F1-Score: 0.7586\n"
     ]
    },
    {
     "name": "stderr",
     "output_type": "stream",
     "text": [
      "C:\\Users\\kerio\\AppData\\Local\\Programs\\Python\\Python313\\Lib\\site-packages\\sklearn\\utils\\validation.py:2749: UserWarning: X does not have valid feature names, but LGBMClassifier was fitted with feature names\n",
      "  warnings.warn(\n"
     ]
    }
   ],
   "source": [
    "y_pred_proba = best_model.predict_proba(X_test)[:, 1]\n",
    "\n",
    "precisions, recalls, thresholds = precision_recall_curve(y_test, y_pred_proba)\n",
    "f1_scores = 2 * (precisions * recalls) / (precisions + recalls)\n",
    "best_f1_idx = np.nanargmax(f1_scores)\n",
    "best_threshold = thresholds[best_f1_idx]\n",
    "\n",
    "print(f\"\\nЛучший F1-Score на тестовом наборе: {f1_scores[best_f1_idx]:.4f}\")\n",
    "print(f\"Оптимальный порог: {best_threshold:.4f}\")\n",
    "\n",
    "y_pred_optimal = (y_pred_proba >= best_threshold).astype(int)\n",
    "\n",
    "final_precision = precision_score(y_test, y_pred_optimal)\n",
    "final_recall = recall_score(y_test, y_pred_optimal)\n",
    "final_f1 = f1_score(y_test, y_pred_optimal)\n",
    "\n",
    "print(f\"\\nФинальная Precision: {final_precision:.4f}\")\n",
    "print(f\"Финальный Recall: {final_recall:.4f}\")\n",
    "print(f\"Финальный F1-Score: {final_f1:.4f}\")"
   ]
  }
 ],
 "metadata": {
  "kernelspec": {
   "display_name": "Python 3 (ipykernel)",
   "language": "python",
   "name": "python3"
  },
  "language_info": {
   "codemirror_mode": {
    "name": "ipython",
    "version": 3
   },
   "file_extension": ".py",
   "mimetype": "text/x-python",
   "name": "python",
   "nbconvert_exporter": "python",
   "pygments_lexer": "ipython3",
   "version": "3.13.2"
  }
 },
 "nbformat": 4,
 "nbformat_minor": 5
}
